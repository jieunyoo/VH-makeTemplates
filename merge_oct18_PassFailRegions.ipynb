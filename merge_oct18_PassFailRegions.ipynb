{
 "cells": [
  {
   "cell_type": "markdown",
   "id": "d80858dc-939c-4414-9700-f2bdd46224d6",
   "metadata": {},
   "source": [
    "# use this to merge ALL histograms for a certain year, e.g,. year it is 2017"
   ]
  },
  {
   "cell_type": "code",
   "execution_count": null,
   "id": "baa2fe64-e565-4e5a-8849-23598a26b850",
   "metadata": {
    "scrolled": true
   },
   "outputs": [],
   "source": [
    "import uproot\n",
    "import pandas as pd\n",
    "import boost_histogram as bh\n",
    "outFile = uproot.recreate(f\"{2017}.root\")"
   ]
  },
  {
   "cell_type": "markdown",
   "id": "e78f8989-4154-4eca-9eb3-1941029d033a",
   "metadata": {},
   "source": [
    "# read in regular histograms for MC: pass and fail regions"
   ]
  },
  {
   "cell_type": "code",
   "execution_count": null,
   "id": "c3085f64-23ef-4cae-a76d-8e9546f70008",
   "metadata": {},
   "outputs": [],
   "source": [
    "obj = pd.read_pickle(r'/home/jieun201/boostedhiggs_may27/combine/templates/hists_templates_2017_pass.pkl')\n",
    "obj2 = pd.read_pickle(r'/home/jieun201/boostedhiggs_may27/combine/templates/hists_templates_2017_fail.pkl')"
   ]
  },
  {
   "cell_type": "code",
   "execution_count": null,
   "id": "18e68a59-7c3e-4507-9f0c-141fc9cb5a89",
   "metadata": {},
   "outputs": [],
   "source": [
    "def getPassList(sample):\n",
    "    systematicsList_pass = ['pass_nominal', 'pass_weight_pileup_up' , 'pass_weight_pileup_down', 'pass_weight_pileup_id_up' , 'pass_weight_pileup_id_down',\n",
    "                        f'pass_weight_pdf_acceptance_{sample}_up', f'pass_weight_pdf_acceptance_{sample}_down',\n",
    "f'pass_weight_qcd_scale_{sample}_up', f'pass_weight_qcd_scale_{sample}_down',\n",
    "'pass_top_reweighting_up', 'pass_top_reweighting_down',\n",
    "'pass_weight_d1K_NLO_up', 'pass_weight_d1K_NLO_down', 'pass_weight_d2K_NLO_up', 'pass_weight_d2K_NLO_down', 'pass_weight_d3K_NLO_up', \n",
    "'pass_weight_d3K_NLO_down', 'pass_weight_d1kappa_EW_up', 'pass_weight_d1kappa_EW_down', 'pass_weight_W_d2kappa_EW_up', 'pass_weight_W_d2kappa_EW_down', \n",
    "'pass_weight_W_d3kappa_EW_up', 'pass_weight_W_d3kappa_EW_down', 'pass_weight_Z_d2kappa_EW_up', 'pass_weight_Z_d2kappa_EW_down', \n",
    "'pass_weight_Z_d3kappa_EW_up', 'pass_weight_Z_d3kappa_EW_down',\n",
    "'pass_weight_btagSFlightCorrelated_up', 'pass_weight_btagSFlightCorrelated_down', 'pass_weight_btagSFbcCorrelated_up','pass_weight_btagSFbcCorrelated_down', \n",
    "'pass_weight_btagSFlight_up', 'pass_weight_btagSFlight_down', 'pass_weight_btagSFbc_up', 'pass_weight_btagSFbc_down',\n",
    "'pass_weight_ele_id_up', 'pass_weight_ele_id_down', 'pass_weight_ele_reco_up', 'pass_weight_ele_reco_down', \n",
    "'pass_weight_mu_isolation_up', 'pass_weight_mu_isolation_down', 'pass_weight_mu_id_up', 'pass_weight_mu_id_down',\n",
    "'pass_weight_mu_trigger_iso_up', 'pass_weight_mu_trigger_iso_down', 'pass_weight_mu_trigger_noniso_up', 'pass_weight_mu_trigger_noniso_down', \n",
    "\n",
    "'pass_weight_L1Prefiring_up', 'pass_weight_L1Prefiring_down',\n",
    "\n",
    "'pass_weight_PSFSR_DYJets_up', 'pass_weight_PSFSR_DYJets_down', 'pass_weight_PSISR_DYJets_up', 'pass_weight_PSISR_DYJets_down',\n",
    "'pass_weight_PSFSR_WH_up', 'pass_weight_PSFSR_WH_down', 'pass_weight_PSISR_WH_up', 'pass_weight_PSISR_WH_down', \n",
    "'pass_weight_PSFSR_ZH_up', 'pass_weight_PSFSR_ZH_down', 'pass_weight_PSISR_ZH_up', 'pass_weight_PSISR_ZH_down',\n",
    "'pass_weight_PSFSR_VBF_up', 'pass_weight_PSFSR_VBF_down', 'pass_weight_PSISR_VBF_up', 'pass_weight_PSISR_VBF_down',\n",
    "'pass_weight_PSFSR_WJetsLNu_up', 'pass_weight_PSFSR_WJetsLNu_down', 'pass_weight_PSISR_WJetsLNu_up', 'pass_weight_PSISR_WJetsLNu_down', \n",
    "'pass_weight_PSFSR_ttH_up', 'pass_weight_PSFSR_ttH_down','pass_weight_PSISR_ttH_up', 'pass_weight_PSISR_ttH_down',\n",
    "'pass_weight_PSFSR_ggF_up', 'pass_weight_PSFSR_ggF_down', 'pass_weight_PSISR_ggF_up', 'pass_weight_PSISR_ggF_down',\n",
    "\n",
    "\n",
    "\n",
    "'pass_weight_qcd_scale_TTbar_up', 'pass_weight_qcd_scale_TTbar_down',\n",
    "'pass_weight_pdf_acceptance_TTbar_up', 'pass_weight_pdf_acceptance_TTbar_down', \n",
    "'pass_weight_PSFSR_TTbar_up', 'pass_weight_PSFSR_TTbar_down', 'pass_weight_PSISR_TTbar_up', 'pass_weight_PSISR_TTbar_down', \n",
    "\n",
    "\n",
    "'pass_weight_pdf_acceptance_SingleTop_up', 'pass_weight_pdf_acceptance_SingleTop_down',\n",
    "'pass_weight_qcd_scale_SingleTop_up', 'pass_weight_qcd_scale_SingleTop_down',\n",
    "'pass_weight_PSFSR_SingleTop_up', 'pass_weight_PSFSR_SingleTop_down', 'pass_weight_PSISR_SingleTop_up', 'pass_weight_PSISR_SingleTop_down',\n",
    "\n",
    "'pass_top_reweighting_up', 'pass_top_reweighting_down',\n",
    "'pass_UES_up', 'pass_UES_down',\n",
    "\n",
    "'pass_JES_FlavorQCD_up', 'pass_JES_FlavorQCD_down', 'pass_JES_RelativeBal_up', 'pass_JES_RelativeBal_down', \n",
    "'pass_JES_HF_up', 'pass_JES_HF_down', 'pass_JES_BBEC1_up', 'pass_JES_BBEC1_down', 'pass_JES_EC2_up', 'pass_JES_EC2_down',\n",
    "'pass_JES_Absolute_up', 'pass_JES_Absolute_down', 'pass_JES_BBEC1_year_up', 'pass_JES_BBEC1_year_down', 'pass_JES_RelativeSample_year_up',\n",
    "'pass_JES_RelativeSample_year_down', 'pass_JES_EC2_year_up', 'pass_JES_EC2_year_down', 'pass_JES_HF_year_up', 'pass_JES_HF_year_down', \n",
    "'pass_JES_Absolute_year_up', 'pass_JES_Absolute_year_down', 'pass_JER_year_up', 'pass_JER_year_down',\n",
    "]\n",
    "    return systematicsList_pass\n",
    "                       \n",
    "\n",
    "def getFailList(sample):\n",
    "    systematicsList_fail = ['fail_nominal', 'fail_weight_pileup_up', 'fail_weight_pileup_down', 'fail_weight_pileup_id_up', 'fail_weight_pileup_id_down', \n",
    "f'fail_weight_pdf_acceptance_{sample}_up', f'fail_weight_pdf_acceptance_{sample}_down',           \n",
    "                        f'fail_weight_qcd_scale_{sample}_up', f'fail_weight_qcd_scale_{sample}_down',\n",
    "'fail_top_reweighting_up', 'fail_top_reweighting_down',\n",
    "\n",
    "'fail_weight_d1K_NLO_up', 'fail_weight_d1K_NLO_down', 'fail_weight_d2K_NLO_up', 'fail_weight_d2K_NLO_down', 'fail_weight_d3K_NLO_up', \n",
    "'fail_weight_d3K_NLO_down', 'fail_weight_d1kappa_EW_up', 'fail_weight_d1kappa_EW_down', 'fail_weight_W_d2kappa_EW_up', 'fail_weight_W_d2kappa_EW_down',\n",
    "'fail_weight_W_d3kappa_EW_up', 'fail_weight_W_d3kappa_EW_down', 'fail_weight_Z_d2kappa_EW_up', 'fail_weight_Z_d2kappa_EW_down', 'fail_weight_Z_d3kappa_EW_up', \n",
    "'fail_weight_Z_d3kappa_EW_down',\n",
    "'fail_weight_btagSFlightCorrelated_up', 'fail_weight_btagSFlightCorrelated_down', 'fail_weight_btagSFbcCorrelated_up', 'fail_weight_btagSFbcCorrelated_down', \n",
    " 'fail_weight_btagSFlight_up', 'fail_weight_btagSFlight_down', 'fail_weight_btagSFbc_up', 'fail_weight_btagSFbc_down',\n",
    "'fail_weight_ele_id_up', 'fail_weight_ele_id_down', 'fail_weight_ele_reco_up', 'fail_weight_ele_reco_down',\n",
    "'fail_weight_mu_isolation_up', 'fail_weight_mu_isolation_down', 'fail_weight_mu_id_up', 'fail_weight_mu_id_down',\n",
    "'fail_weight_mu_trigger_iso_up', 'fail_weight_mu_trigger_iso_down', 'fail_weight_mu_trigger_noniso_up', 'fail_weight_mu_trigger_noniso_down', \n",
    "'fail_weight_L1Prefiring_up', 'fail_weight_L1Prefiring_down', \n",
    "'fail_weight_PSFSR_DYJets_up', 'fail_weight_PSFSR_DYJets_down', 'fail_weight_PSISR_DYJets_up', 'fail_weight_PSISR_DYJets_down', \n",
    "'fail_weight_PSFSR_WH_up', 'fail_weight_PSFSR_WH_down', 'fail_weight_PSISR_WH_up', 'fail_weight_PSISR_WH_down', \n",
    "'fail_weight_PSFSR_ZH_up', 'fail_weight_PSFSR_ZH_down', 'fail_weight_PSISR_ZH_up', 'fail_weight_PSISR_ZH_down',\n",
    "'fail_weight_PSFSR_VBF_up', 'fail_weight_PSFSR_VBF_down', 'fail_weight_PSISR_VBF_up', 'fail_weight_PSISR_VBF_down',\n",
    "'fail_weight_PSFSR_WJetsLNu_up', 'fail_weight_PSFSR_WJetsLNu_down', 'fail_weight_PSISR_WJetsLNu_up', 'fail_weight_PSISR_WJetsLNu_down', \n",
    "'fail_weight_PSFSR_ttH_up', 'fail_weight_PSFSR_ttH_down','fail_weight_PSISR_ttH_up', 'fail_weight_PSISR_ttH_down',\n",
    "'fail_weight_PSFSR_ggF_up', 'fail_weight_PSFSR_ggF_down', 'fail_weight_PSISR_ggF_up', 'fail_weight_PSISR_ggF_down',\n",
    "\n",
    "'fail_weight_qcd_scale_TTbar_up', 'fail_weight_qcd_scale_TTbar_down',\n",
    "'fail_weight_pdf_acceptance_TTbar_up', 'fail_weight_pdf_acceptance_TTbar_down', \n",
    "'fail_weight_PSFSR_TTbar_up', 'fail_weight_PSFSR_TTbar_down', 'fail_weight_PSISR_TTbar_up', 'fail_weight_PSISR_TTbar_down',\n",
    "\n",
    "'fail_top_reweighting_up', 'fail_top_reweighting_down',\n",
    "\n",
    "'fail_weight_pdf_acceptance_SingleTop_up', 'fail_weight_pdf_acceptance_SingleTop_down',\n",
    "'fail_weight_qcd_scale_SingleTop_up', 'fail_weight_qcd_scale_SingleTop_down',\n",
    "'fail_weight_PSFSR_SingleTop_up', 'fail_weight_PSFSR_SingleTop_down', 'fail_weight_PSISR_SingleTop_up', 'fail_weight_PSISR_SingleTop_down',\n",
    "\n",
    "'fail_UES_up', 'fail_UES_down',\n",
    "'fail_JES_FlavorQCD_up', 'fail_JES_FlavorQCD_down', 'fail_JES_RelativeBal_up', 'fail_JES_RelativeBal_down', 'fail_JES_HF_up', 'fail_JES_HF_down',\n",
    "'fail_JES_BBEC1_up', 'fail_JES_BBEC1_down', 'fail_JES_EC2_up', 'fail_JES_EC2_down', 'fail_JES_Absolute_up', 'fail_JES_Absolute_down',\n",
    "'fail_JES_BBEC1_year_up', 'fail_JES_BBEC1_year_down', 'fail_JES_RelativeSample_year_up', 'fail_JES_RelativeSample_year_down',\n",
    "'fail_JES_EC2_year_up', 'fail_JES_EC2_year_down', 'fail_JES_HF_year_up', 'fail_JES_HF_year_down', 'fail_JES_Absolute_year_up',\n",
    "'fail_JES_Absolute_year_down', 'fail_JER_year_up', 'fail_JER_year_down', ]\n",
    "    return systematicsList_fail"
   ]
  },
  {
   "cell_type": "code",
   "execution_count": null,
   "id": "e925ce73-3144-4ac1-b338-694762d619fc",
   "metadata": {},
   "outputs": [],
   "source": []
  },
  {
   "cell_type": "markdown",
   "id": "1e0f02d3-de9b-4a6c-83f8-288c0b8d1143",
   "metadata": {},
   "source": [
    "# process data"
   ]
  },
  {
   "cell_type": "code",
   "execution_count": null,
   "id": "3ba7ffd1-563b-46d4-b93a-134e1abafb02",
   "metadata": {},
   "outputs": [],
   "source": [
    "real_data = pd.read_pickle(r'/home/jieun201/boostedhiggs_may27/combine/templates/hists_templates_2017_data_pass.pkl')\n",
    "\n",
    "readInData = real_data[{\"Region\": \"SR1\", \"Sample\": \"Data\"}]\n",
    "hist_data = readInData[{\"Systematic\": 'pass_nominal'}]\n",
    "hData = uproot.to_writable(hist_data)\n",
    "outFile['data_pass_nominal']=hData\n",
    "\n",
    "real_dataFail = pd.read_pickle(r'/home/jieun201/boostedhiggs_may27/combine/templates/hists_templates_2017_data_fail.pkl')\n",
    "real_dataFail\n",
    "readInDataFail = real_dataFail[{\"Region\": \"SR1\", \"Sample\": \"Data\"}]\n",
    "hist_dataFail = readInDataFail[{\"Systematic\": 'fail_nominal'}]\n",
    "hDataFail = uproot.to_writable(hist_dataFail)\n",
    "outFile['data_fail_nominal']=hDataFail"
   ]
  },
  {
   "cell_type": "markdown",
   "id": "debdf62b-d4a9-4f5c-b91d-6b49d6a1c4e8",
   "metadata": {},
   "source": [
    "# process Fakes"
   ]
  },
  {
   "cell_type": "code",
   "execution_count": null,
   "id": "b7b3fc44-e610-4839-96ab-80811c9ffb20",
   "metadata": {},
   "outputs": [],
   "source": [
    "\n",
    "#  StrCategory(['fail_nominal', 'fail_fakes_SF_Up', 'fail_fakes_SF_Down', 'fail_fakes_DR_Up', 'fail_fakes_DR_Down']\n",
    "\n",
    "fakePass1 = pd.read_pickle(r'/home/jieun201/boostedhiggs_may27/combine/templates/hists_templates_2017_fake_pass.pkl')\n",
    "fakePass_2 = fakePass1[{\"Region\": \"SR1\", \"Sample\": \"Fake\", \"Systematic\": \"pass_nominal\"}]\n",
    "fakePassHist2 = uproot.to_writable(fakePass_2)\n",
    "outFile['fake_pass_nominal'] = fakePassHist2\n",
    "\n",
    "fakePass_3 = fakePass1[{\"Region\": \"SR1\", \"Sample\": \"Fake\", \"Systematic\": \"pass_fakes_SF_Up\"}]\n",
    "fakePassHist3 = uproot.to_writable(fakePass_3)\n",
    "outFile['fake_pass_fakes_SF_Up'] = fakePassHist3\n",
    "\n",
    "fakePass_4 = fakePass1[{\"Region\": \"SR1\", \"Sample\": \"Fake\", \"Systematic\": \"pass_fakes_SF_Down\"}]\n",
    "fakePassHist4 = uproot.to_writable(fakePass_4)\n",
    "outFile['fake_pass_fakes_SF_Down'] = fakePassHist4\n",
    "\n",
    "fakePass_5 = fakePass1[{\"Region\": \"SR1\", \"Sample\": \"Fake\", \"Systematic\": \"pass_fakes_DR_Up\"}]\n",
    "fakePassHist5 = uproot.to_writable(fakePass_5)\n",
    "outFile['fake_pass_fakes_DR_Up'] = fakePassHist5\n",
    "\n",
    "fakePass_6 = fakePass1[{\"Region\": \"SR1\", \"Sample\": \"Fake\", \"Systematic\": \"pass_fakes_DR_Down\"}]\n",
    "fakePassHist6 = uproot.to_writable(fakePass_6)\n",
    "outFile['fake_pass_fakes_DR_Down'] = fakePassHist6"
   ]
  },
  {
   "cell_type": "code",
   "execution_count": null,
   "id": "ed02cd16-c69b-4c57-8a5a-2bbdc9e28d40",
   "metadata": {},
   "outputs": [],
   "source": []
  },
  {
   "cell_type": "code",
   "execution_count": null,
   "id": "e2f50c30-fb36-45ed-a45e-9ba0846270e2",
   "metadata": {},
   "outputs": [],
   "source": [
    "\n",
    "fakeFail1 = pd.read_pickle(r'/home/jieun201/boostedhiggs_may27/combine/templates/hists_templates_2017_fake_fail.pkl')\n",
    "fakeFail_2 = fakeFail1[{\"Region\": \"SR1\", \"Sample\": \"Fake\", \"Systematic\": \"fail_nominal\"}]\n",
    "fakeFailHist2 = uproot.to_writable(fakeFail_2)\n",
    "outFile['fake_fail_nominal'] = fakeFailHist2\n",
    "\n",
    "\n",
    "\n",
    "fakePass_7 = fakeFail1[{\"Region\": \"SR1\", \"Sample\": \"Fake\", \"Systematic\": \"fail_fakes_SF_Up\"}]\n",
    "fakePassHist7 = uproot.to_writable(fakePass_7)\n",
    "outFile['fake_fail_fakes_SF_Up'] = fakePassHist7\n",
    "\n",
    "fakePass_8 = fakeFail1[{\"Region\": \"SR1\", \"Sample\": \"Fake\", \"Systematic\": \"fail_fakes_SF_Down\"}]\n",
    "fakePassHist8 = uproot.to_writable(fakePass_8)\n",
    "outFile['fake_fail_fakes_SF_Down'] = fakePassHist8\n",
    "\n",
    "fakePass_9 = fakeFail1[{\"Region\": \"SR1\", \"Sample\": \"Fake\", \"Systematic\": \"fail_fakes_DR_Up\"}]\n",
    "fakePassHist9 = uproot.to_writable(fakePass_9)\n",
    "outFile['fake_fail_fakes_DR_Up'] = fakePassHist9\n",
    "\n",
    "fakePass_10 = fakeFail1[{\"Region\": \"SR1\", \"Sample\": \"Fake\", \"Systematic\": \"fail_fakes_DR_Down\"}]\n",
    "fakePassHist10 = uproot.to_writable(fakePass_10)\n",
    "outFile['fake_fail_fakes_DR_Down'] = fakePassHist10\n"
   ]
  },
  {
   "cell_type": "code",
   "execution_count": null,
   "id": "44660676-de74-4814-a96f-e38e04713308",
   "metadata": {},
   "outputs": [],
   "source": []
  },
  {
   "cell_type": "code",
   "execution_count": null,
   "id": "01d6915d-23fe-44a1-b0c9-acd6f4ee2b68",
   "metadata": {},
   "outputs": [],
   "source": []
  },
  {
   "cell_type": "markdown",
   "id": "61f26c25-c3c1-4ec0-9046-3a7a8603f28f",
   "metadata": {},
   "source": [
    "# finally, process rest of MC samples"
   ]
  },
  {
   "cell_type": "code",
   "execution_count": null,
   "id": "6af8fe30-17a1-4cfb-bedc-b38a3afb49b0",
   "metadata": {},
   "outputs": [],
   "source": [
    "sample1 = obj[{\"Region\": \"SR1\", \"Sample\": \"WH\"}]\n",
    "sample2 = obj2[{\"Region\": \"SR1\", \"Sample\": \"WH\"}]\n",
    "\n",
    "#WH\n",
    "sample = 'WH'\n",
    "for i in getPassList('WH'):\n",
    "    hist1 = sample1[{\"Systematic\": i}]\n",
    "    h1 = uproot.to_writable(hist1)\n",
    "    outFile[f'{sample}_{i}']=h1\n",
    "\n",
    "for i in getFailList('WH'):\n",
    "    hist1 = sample2[{\"Systematic\": i}]\n",
    "    h1 = uproot.to_writable(hist1)\n",
    "    outFile[f'{sample}_{i}']=h1\n"
   ]
  },
  {
   "cell_type": "code",
   "execution_count": null,
   "id": "98dfe82b-68d8-407f-aac8-8cc981ff366c",
   "metadata": {},
   "outputs": [],
   "source": [
    "sample3= obj[{\"Region\": \"SR1\", \"Sample\": \"WJetsLNu\"}]\n",
    "sample4 = obj2[{\"Region\": \"SR1\", \"Sample\": \"WJetsLNu\"}]\n",
    "sample = 'WJetsLNu'\n",
    "\n",
    "for i in getPassList(sample):\n",
    "    hist1 = sample3[{\"Systematic\": i}]\n",
    "    h1 = uproot.to_writable(hist1)\n",
    "    outFile[f'{sample}_{i}']=h1\n",
    "\n",
    "for i in getFailList(sample):\n",
    "    hist1 = sample4[{\"Systematic\": i}]\n",
    "    h1 = uproot.to_writable(hist1)\n",
    "    outFile[f'{sample}_{i}']=h1"
   ]
  },
  {
   "cell_type": "code",
   "execution_count": null,
   "id": "12524eac-aad2-49f0-8c32-393bdf4ffd00",
   "metadata": {},
   "outputs": [],
   "source": [
    "sample5= obj[{\"Region\": \"SR1\", \"Sample\": \"ggF\"}]\n",
    "sample6 = obj2[{\"Region\": \"SR1\", \"Sample\": \"ggF\"}]\n",
    "sample = 'ggF'\n",
    "\n",
    "for i in getPassList(sample):\n",
    "    hist1 = sample5[{\"Systematic\": i}]\n",
    "    h1 = uproot.to_writable(hist1)\n",
    "    outFile[f'{sample}_{i}']=h1\n",
    "\n",
    "for i in getFailList(sample):\n",
    "    hist1 = sample6[{\"Systematic\": i}]\n",
    "    h1 = uproot.to_writable(hist1)\n",
    "    outFile[f'{sample}_{i}']=h1"
   ]
  },
  {
   "cell_type": "code",
   "execution_count": null,
   "id": "6cedeeba-5b64-46c4-a05a-636f0d0fc913",
   "metadata": {},
   "outputs": [],
   "source": [
    "sample7= obj[{\"Region\": \"SR1\", \"Sample\": \"VBF\"}]\n",
    "sample8 = obj2[{\"Region\": \"SR1\", \"Sample\": \"VBF\"}]\n",
    "sample = 'VBF'\n",
    "\n",
    "for i in getPassList(sample):\n",
    "    hist1 = sample7[{\"Systematic\": i}]\n",
    "    h1 = uproot.to_writable(hist1)\n",
    "    outFile[f'{sample}_{i}']=h1\n",
    "\n",
    "for i in getFailList(sample):\n",
    "    hist1 = sample8[{\"Systematic\": i}]\n",
    "    h1 = uproot.to_writable(hist1)\n",
    "    outFile[f'{sample}_{i}']=h1\n"
   ]
  },
  {
   "cell_type": "code",
   "execution_count": null,
   "id": "542ea781-4c81-477d-8725-1e4e69784992",
   "metadata": {},
   "outputs": [],
   "source": [
    "sample9= obj[{\"Region\": \"SR1\", \"Sample\": \"ttH\"}]\n",
    "sample10 = obj2[{\"Region\": \"SR1\", \"Sample\": \"ttH\"}]\n",
    "sample = 'ttH'\n",
    "\n",
    "for i in getPassList(sample):\n",
    "    hist1 = sample9[{\"Systematic\": i}]\n",
    "    h1 = uproot.to_writable(hist1)\n",
    "    outFile[f'{sample}_{i}']=h1\n",
    "\n",
    "for i in getFailList(sample):\n",
    "    hist1 = sample10[{\"Systematic\": i}]\n",
    "    h1 = uproot.to_writable(hist1)\n",
    "    outFile[f'{sample}_{i}']=h1\n"
   ]
  },
  {
   "cell_type": "code",
   "execution_count": null,
   "id": "16da3ca0-1245-4092-81d5-c22e7ffa1095",
   "metadata": {},
   "outputs": [],
   "source": [
    "sample11= obj[{\"Region\": \"SR1\", \"Sample\": \"ZH\"}]\n",
    "sample12 = obj2[{\"Region\": \"SR1\", \"Sample\": \"ZH\"}]\n",
    "sample = 'ZH'\n",
    "\n",
    "for i in getPassList(sample):\n",
    "    hist1 = sample11[{\"Systematic\": i}]\n",
    "    h1 = uproot.to_writable(hist1)\n",
    "    outFile[f'{sample}_{i}']=h1\n",
    "\n",
    "for i in getFailList(sample):\n",
    "    hist1 = sample12[{\"Systematic\": i}]\n",
    "    h1 = uproot.to_writable(hist1)\n",
    "    outFile[f'{sample}_{i}']=h1\n"
   ]
  },
  {
   "cell_type": "code",
   "execution_count": null,
   "id": "db23d3ae-3fb3-4c45-a211-f3ee0c02a73d",
   "metadata": {},
   "outputs": [],
   "source": [
    "sample13= obj[{\"Region\": \"SR1\", \"Sample\": \"DYJets\"}]\n",
    "sample14 = obj2[{\"Region\": \"SR1\", \"Sample\": \"DYJets\"}]\n",
    "sample = 'DYJets'\n",
    "\n",
    "for i in getPassList(sample):\n",
    "    hist1 = sample13[{\"Systematic\": i}]\n",
    "    h1 = uproot.to_writable(hist1)\n",
    "    outFile[f'{sample}_{i}']=h1\n",
    "\n",
    "for i in getFailList(sample):\n",
    "    hist1 = sample14[{\"Systematic\": i}]\n",
    "    h1 = uproot.to_writable(hist1)\n",
    "    outFile[f'{sample}_{i}']=h1\n"
   ]
  },
  {
   "cell_type": "code",
   "execution_count": null,
   "id": "51484447-b17d-4fdd-9ec6-796f06330abb",
   "metadata": {},
   "outputs": [],
   "source": [
    "sample15= obj[{\"Region\": \"SR1\", \"Sample\": \"TTbar\"}]\n",
    "sample16 = obj2[{\"Region\": \"SR1\", \"Sample\": \"TTbar\"}]\n",
    "sample = 'TTbar'\n",
    "\n",
    "for i in getPassList(sample):\n",
    "    hist1 = sample15[{\"Systematic\": i}]\n",
    "    h1 = uproot.to_writable(hist1)\n",
    "    outFile[f'{sample}_{i}']=h1\n",
    "\n",
    "for i in getFailList(sample):\n",
    "    hist1 = sample16[{\"Systematic\": i}]\n",
    "    h1 = uproot.to_writable(hist1)\n",
    "    outFile[f'{sample}_{i}']=h1"
   ]
  },
  {
   "cell_type": "code",
   "execution_count": null,
   "id": "09654d58-dac6-49e4-b372-f387ec6bd197",
   "metadata": {},
   "outputs": [],
   "source": [
    "sample17= obj[{\"Region\": \"SR1\", \"Sample\": \"SingleTop\"}]\n",
    "sample18 = obj2[{\"Region\": \"SR1\", \"Sample\": \"SingleTop\"}]\n",
    "sample = 'SingleTop'\n",
    "\n",
    "for i in getPassList(sample):\n",
    "    hist1 = sample17[{\"Systematic\": i}]\n",
    "    h1 = uproot.to_writable(hist1)\n",
    "    outFile[f'{sample}_{i}']=h1\n",
    "\n",
    "for i in getFailList(sample):\n",
    "    hist1 = sample18[{\"Systematic\": i}]\n",
    "    h1 = uproot.to_writable(hist1)\n",
    "    outFile[f'{sample}_{i}']=h1"
   ]
  },
  {
   "cell_type": "code",
   "execution_count": null,
   "id": "dc7199f4-66fb-49c6-8abf-a0cc23096d4e",
   "metadata": {},
   "outputs": [],
   "source": []
  },
  {
   "cell_type": "code",
   "execution_count": null,
   "id": "3268b3c5-69fa-4118-a177-15f9acf88cbe",
   "metadata": {},
   "outputs": [],
   "source": []
  },
  {
   "cell_type": "markdown",
   "id": "6df8dab2-ee64-46c9-a9c8-123f1aaed1b9",
   "metadata": {},
   "source": [
    "# just various debugging things can ignore below"
   ]
  },
  {
   "cell_type": "code",
   "execution_count": null,
   "id": "fe7da78c-b5db-4b7c-836b-7b78a460bfcc",
   "metadata": {},
   "outputs": [],
   "source": [
    "#sample2 = obj[{\"Region\": \"SR1\", \"Sample\": \"WJetsLNu\"}]\n",
    "#sample2 = obj[{\"Region\": \"SR1\", \"Sample\": \"WJetsLNu\"}]\n",
    "\n",
    "\n",
    "#hist1 = sample1[{\"Systematic\": \"pass_JES_BBEC1_year_up\"}]\n",
    "#hist1\n",
    "\n"
   ]
  },
  {
   "cell_type": "code",
   "execution_count": null,
   "id": "78a961ab-3417-44a7-8511-2f821ec70363",
   "metadata": {},
   "outputs": [],
   "source": [
    "#hist2 = sample1[{\"Systematic\": \"pass_top_reweighting_down\"}]\n",
    "#h2 = uproot.to_writable(hist2)\n",
    "#outFile[f'{sample}_pass_top_reweighting_down']=h2\n",
    "\n",
    "\n"
   ]
  },
  {
   "cell_type": "code",
   "execution_count": null,
   "id": "8f5c3560-11be-477b-a132-6f5db607f0e2",
   "metadata": {},
   "outputs": [],
   "source": [
    "#to double check plotting\n",
    "#file1= uproot.open(\"/home/jieun201/boostedhiggs_may27/combine/templates/WH.root\")\n",
    "#file1.keys()\n",
    "#h = file1['myhist']\n",
    "#h.to_hist().plot()"
   ]
  },
  {
   "cell_type": "code",
   "execution_count": null,
   "id": "2d5dda33-bf5b-4789-b551-1e768f98c432",
   "metadata": {},
   "outputs": [],
   "source": []
  },
  {
   "cell_type": "code",
   "execution_count": null,
   "id": "24fd9d28-67eb-487f-b0fd-1c703a081a78",
   "metadata": {},
   "outputs": [],
   "source": []
  },
  {
   "cell_type": "code",
   "execution_count": null,
   "id": "7fbc8e91-e2a0-4b3c-8c5c-647e5be1c7ba",
   "metadata": {
    "scrolled": true
   },
   "outputs": [],
   "source": [
    "file1= uproot.open(\"/home/jieun201/boostedhiggs_may27/combine/2017.root\")\n",
    "file1.keys()\n",
    "#h = file1['myhist']\n",
    "#h.to_hist().plot()"
   ]
  },
  {
   "cell_type": "code",
   "execution_count": null,
   "id": "589691b7-c9c0-439d-ba42-6f73b12b1156",
   "metadata": {},
   "outputs": [],
   "source": [
    "h = file1['WH_pass_nominal']\n",
    "h.to_hist().plot()\n",
    "h2 = file1['WH_fail_nominal']\n",
    "h2.to_hist().plot()"
   ]
  },
  {
   "cell_type": "code",
   "execution_count": null,
   "id": "0d8c3cd8-90f7-4474-a59f-b67458c7a1fb",
   "metadata": {},
   "outputs": [],
   "source": []
  },
  {
   "cell_type": "code",
   "execution_count": null,
   "id": "2a441738-f8c4-447e-b6a1-0da04cc23099",
   "metadata": {},
   "outputs": [],
   "source": [
    "h = file1['WH_pass_nominal']"
   ]
  },
  {
   "cell_type": "code",
   "execution_count": null,
   "id": "de0284a4-3401-48ba-8256-0a5c178c1901",
   "metadata": {},
   "outputs": [],
   "source": [
    "h_vals = h.values()\n",
    "h_vals"
   ]
  },
  {
   "cell_type": "code",
   "execution_count": null,
   "id": "215b9200-5051-4375-81a6-db197ef6fecf",
   "metadata": {},
   "outputs": [],
   "source": [
    "import numpy as np\n",
    "np.array(h_vals)"
   ]
  },
  {
   "cell_type": "code",
   "execution_count": null,
   "id": "8da49774-5525-4a70-82ba-89f0972f87cb",
   "metadata": {},
   "outputs": [],
   "source": [
    "h = file1['WJetsLNu_pass_weight_btagSFlightCorrelated_up']\n",
    "h.to_hist().plot(label='up')\n",
    "import matplotlib.pyplot as plt\n",
    "h2 = file1['WJetsLNu_pass_weight_btagSFlightCorrelated_down']\n",
    "h2.to_hist().plot(label='down')\n",
    "#h = file1['WJetsLNu_pass_weight_btagSFlight_up']\n",
    "#h.to_hist().plot()\n",
    "h3 = file1['WJetsLNu_pass_nominal']\n",
    "h3.to_hist().plot(label='nominal')\n",
    "plt.legend()\n"
   ]
  },
  {
   "cell_type": "code",
   "execution_count": null,
   "id": "8f3b5fc5-06e3-441d-8ea2-47f5f6a2a88c",
   "metadata": {},
   "outputs": [],
   "source": [
    "h = file1['WH_pass_weight_btagSFlightCorrelated_up']\n",
    "h.to_hist().plot(label='up')\n",
    "import matplotlib.pyplot as plt\n",
    "h2 = file1['WH_pass_weight_btagSFlightCorrelated_down']\n",
    "h2.to_hist().plot(label='down')\n",
    "#h = file1['WJetsLNu_pass_weight_btagSFlight_up']\n",
    "#h.to_hist().plot()\n",
    "h3 = file1['WH_pass_nominal']\n",
    "h3.to_hist().plot(label='nominal')\n",
    "plt.legend()\n"
   ]
  },
  {
   "cell_type": "code",
   "execution_count": null,
   "id": "fb896a8e-f9f1-4fe9-8c6d-e4248f0dd6e5",
   "metadata": {},
   "outputs": [],
   "source": [
    "h = file1['WH_fail_weight_btagSFlightCorrelated_up']\n",
    "h.to_hist().plot(label='up')\n",
    "import matplotlib.pyplot as plt\n",
    "h2 = file1['WH_fail_weight_btagSFlightCorrelated_down']\n",
    "h2.to_hist().plot(label='down')\n",
    "#h = file1['WJetsLNu_pass_weight_btagSFlight_up']\n",
    "#h.to_hist().plot()\n",
    "h3 = file1['WH_fail_nominal']\n",
    "h3.to_hist().plot(label='nominal')\n",
    "plt.legend()"
   ]
  },
  {
   "cell_type": "code",
   "execution_count": null,
   "id": "6f80c501-a915-4a80-bdf2-202c127761e6",
   "metadata": {},
   "outputs": [],
   "source": [
    "h3 = file1['WJetsLNu_pass_nominal']\n",
    "h3\n"
   ]
  },
  {
   "cell_type": "code",
   "execution_count": null,
   "id": "903ce142-3e8c-4478-889d-570eee8daef3",
   "metadata": {},
   "outputs": [],
   "source": [
    "testArray = [1,2,-1]\n",
    "np.max(1,-1)"
   ]
  },
  {
   "cell_type": "code",
   "execution_count": null,
   "id": "1d3afa0c-b21a-4b7f-b860-408a604cb233",
   "metadata": {},
   "outputs": [],
   "source": [
    "import math\n",
    "math.isclose(4, 4.1, rel_tol = 0.024)"
   ]
  },
  {
   "cell_type": "code",
   "execution_count": null,
   "id": "ee292d4a-46b3-4987-b06a-c7519fbcb5e4",
   "metadata": {},
   "outputs": [],
   "source": [
    "math.isclose(4, 4.1, rel_tol = 0.025)"
   ]
  },
  {
   "cell_type": "code",
   "execution_count": null,
   "id": "91ab0306-6bfd-41fe-af1b-de7dfd64bbcd",
   "metadata": {},
   "outputs": [],
   "source": [
    "math.isclose(1.0075, 1.0184, rel_tol = 0.01)\n",
    "\n"
   ]
  },
  {
   "cell_type": "code",
   "execution_count": null,
   "id": "5eec7f0f-a531-47d5-90c3-0d2e72a293d8",
   "metadata": {},
   "outputs": [],
   "source": [
    "math.isclose(1.0184, 1.0075, rel_tol = 0.015)"
   ]
  },
  {
   "cell_type": "code",
   "execution_count": null,
   "id": "4c3527f3-c4ed-4bca-8e18-671f318f0c50",
   "metadata": {},
   "outputs": [],
   "source": [
    "\n",
    "arr = np.array([1.0184, 1.0075])\n",
    "np.mean(arr)"
   ]
  },
  {
   "cell_type": "code",
   "execution_count": null,
   "id": "f99fd975-ae2b-4107-8ba2-6b6e5aa77371",
   "metadata": {},
   "outputs": [],
   "source": [
    "file1= uproot.open(\"/home/jieun201/boostedhiggs_may27/combine/2017.root\")\n",
    "file1\n"
   ]
  },
  {
   "cell_type": "code",
   "execution_count": null,
   "id": "52de16b3-0887-48f3-b1fb-7bcc8c5c1be8",
   "metadata": {},
   "outputs": [],
   "source": [
    "#check VBF\n",
    "\n",
    "\n",
    "h = file1['VBF_fail_JES_BBEC1_year_up']\n",
    "h.to_hist().plot(label='up')\n",
    "import matplotlib.pyplot as plt\n",
    "h2 = file1['VBF_fail_JES_BBEC1_year_down']\n",
    "h2.to_hist().plot(label='down')\n",
    "#h = file1['WJetsLNu_pass_weight_btagSFlight_up']\n",
    "#h.to_hist().plot()\n",
    "h3 = file1['VBF_fail_nominal']\n",
    "h3.to_hist().plot(label='nominal')\n",
    "plt.legend()"
   ]
  },
  {
   "cell_type": "code",
   "execution_count": null,
   "id": "4484b75e-0c51-4bdf-b071-4324b6b0a335",
   "metadata": {},
   "outputs": [],
   "source": [
    "#check VBF\n",
    "\n",
    "\n",
    "h = file1['VBF_pass_JES_BBEC1_year_up']\n",
    "h.to_hist().plot(label='up')\n",
    "import matplotlib.pyplot as plt\n",
    "h2 = file1['VBF_pass_JES_BBEC1_year_down']\n",
    "h2.to_hist().plot(label='down')\n",
    "#h = file1['WJetsLNu_pass_weight_btagSFlight_up']\n",
    "#h.to_hist().plot()\n",
    "h3 = file1['VBF_pass_nominal']\n",
    "h3.to_hist().plot(label='nominal')\n",
    "plt.legend()"
   ]
  },
  {
   "cell_type": "code",
   "execution_count": null,
   "id": "f980d430-c914-4272-b938-2c68e0a27d58",
   "metadata": {},
   "outputs": [],
   "source": []
  },
  {
   "cell_type": "code",
   "execution_count": null,
   "id": "0f77092b-51c7-4f19-a47e-6dfc002bf8a9",
   "metadata": {},
   "outputs": [],
   "source": []
  },
  {
   "cell_type": "code",
   "execution_count": null,
   "id": "efb3818d-6f09-4061-b175-e57a64b1ecf1",
   "metadata": {},
   "outputs": [],
   "source": []
  }
 ],
 "metadata": {
  "kernelspec": {
   "display_name": "Python 3 (ipykernel)",
   "language": "python",
   "name": "python3"
  },
  "language_info": {
   "codemirror_mode": {
    "name": "ipython",
    "version": 3
   },
   "file_extension": ".py",
   "mimetype": "text/x-python",
   "name": "python",
   "nbconvert_exporter": "python",
   "pygments_lexer": "ipython3",
   "version": "3.10.15"
  }
 },
 "nbformat": 4,
 "nbformat_minor": 5
}
